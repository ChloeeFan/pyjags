{
 "cells": [
  {
   "cell_type": "code",
   "execution_count": 3,
   "id": "44d06a25",
   "metadata": {},
   "outputs": [
    {
     "ename": "ModuleNotFoundError",
     "evalue": "No module named 'pyjags'",
     "output_type": "error",
     "traceback": [
      "\u001b[0;31m---------------------------------------------------------------------------\u001b[0m",
      "\u001b[0;31mModuleNotFoundError\u001b[0m                       Traceback (most recent call last)",
      "\u001b[0;32m/var/folders/j1/08kjqgs93yx2v5brkn7rdgcm0000gn/T/ipykernel_99805/2243838533.py\u001b[0m in \u001b[0;36m<module>\u001b[0;34m\u001b[0m\n\u001b[1;32m      3\u001b[0m \u001b[0;32mimport\u001b[0m \u001b[0mmatplotlib\u001b[0m\u001b[0;34m.\u001b[0m\u001b[0mpyplot\u001b[0m \u001b[0;32mas\u001b[0m \u001b[0mplt\u001b[0m\u001b[0;34m\u001b[0m\u001b[0;34m\u001b[0m\u001b[0m\n\u001b[1;32m      4\u001b[0m \u001b[0;32mimport\u001b[0m \u001b[0mseaborn\u001b[0m \u001b[0;32mas\u001b[0m \u001b[0msns\u001b[0m\u001b[0;34m\u001b[0m\u001b[0;34m\u001b[0m\u001b[0m\n\u001b[0;32m----> 5\u001b[0;31m \u001b[0;32mimport\u001b[0m \u001b[0mpyjags\u001b[0m\u001b[0;34m\u001b[0m\u001b[0;34m\u001b[0m\u001b[0m\n\u001b[0m",
      "\u001b[0;31mModuleNotFoundError\u001b[0m: No module named 'pyjags'"
     ]
    }
   ],
   "source": [
    "import numpy as np\n",
    "import pandas as pd\n",
    "import matplotlib.pyplot as plt\n",
    "import seaborn as sns\n",
    "import pyjags"
   ]
  },
  {
   "cell_type": "markdown",
   "id": "0c287845",
   "metadata": {},
   "source": [
    "### Load the NFL concussions data"
   ]
  },
  {
   "cell_type": "code",
   "execution_count": 4,
   "id": "f5960c93",
   "metadata": {},
   "outputs": [],
   "source": [
    "Y = np.array([171, 152, 123, 199])\n",
    "n = 4\n",
    "N = 256"
   ]
  },
  {
   "cell_type": "markdown",
   "id": "6b900105",
   "metadata": {},
   "source": [
    "### Define the model as a string"
   ]
  },
  {
   "cell_type": "code",
   "execution_count": 5,
   "id": "a3ccb433",
   "metadata": {},
   "outputs": [],
   "source": [
    "model_string = '''\n",
    "model{\n",
    "  \n",
    "  # Likelihood\n",
    "  for(i in 1:n){\n",
    "    Y[i] ~ dpois(N * lambda[i])\n",
    "  }\n",
    "  \n",
    "  # Priors\n",
    "  for(i in 1:n){\n",
    "    lambda[i] ~ dgamma(1, gamma)\n",
    "  }\n",
    "  gamma ~ dgamma(a, b)\n",
    "}\n",
    "'''\n"
   ]
  },
  {
   "cell_type": "markdown",
   "id": "e1ca2450",
   "metadata": {},
   "source": [
    "### Load the data and compile the MCMC code"
   ]
  },
  {
   "cell_type": "code",
   "execution_count": 6,
   "id": "3b96bbc3",
   "metadata": {},
   "outputs": [
    {
     "ename": "NameError",
     "evalue": "name 'pyjags' is not defined",
     "output_type": "error",
     "traceback": [
      "\u001b[0;31m---------------------------------------------------------------------------\u001b[0m",
      "\u001b[0;31mNameError\u001b[0m                                 Traceback (most recent call last)",
      "\u001b[0;32m/var/folders/j1/08kjqgs93yx2v5brkn7rdgcm0000gn/T/ipykernel_99805/3225488936.py\u001b[0m in \u001b[0;36m<module>\u001b[0;34m\u001b[0m\n\u001b[1;32m      1\u001b[0m \u001b[0minits\u001b[0m \u001b[0;34m=\u001b[0m \u001b[0;34m{\u001b[0m\u001b[0;34m'lambda'\u001b[0m\u001b[0;34m:\u001b[0m \u001b[0mnp\u001b[0m\u001b[0;34m.\u001b[0m\u001b[0mrandom\u001b[0m\u001b[0;34m.\u001b[0m\u001b[0mgamma\u001b[0m\u001b[0;34m(\u001b[0m\u001b[0;36m1\u001b[0m\u001b[0;34m,\u001b[0m \u001b[0;36m1\u001b[0m\u001b[0;34m,\u001b[0m \u001b[0mn\u001b[0m\u001b[0;34m)\u001b[0m\u001b[0;34m,\u001b[0m \u001b[0;34m'gamma'\u001b[0m\u001b[0;34m:\u001b[0m \u001b[0;36m1\u001b[0m\u001b[0;34m}\u001b[0m \u001b[0;31m# initial values for lambda and gamma\u001b[0m\u001b[0;34m\u001b[0m\u001b[0;34m\u001b[0m\u001b[0m\n\u001b[1;32m      2\u001b[0m \u001b[0mdata\u001b[0m \u001b[0;34m=\u001b[0m \u001b[0;34m{\u001b[0m\u001b[0;34m'Y'\u001b[0m\u001b[0;34m:\u001b[0m \u001b[0mY\u001b[0m\u001b[0;34m,\u001b[0m \u001b[0;34m'N'\u001b[0m\u001b[0;34m:\u001b[0m \u001b[0mN\u001b[0m\u001b[0;34m,\u001b[0m \u001b[0;34m'n'\u001b[0m\u001b[0;34m:\u001b[0m \u001b[0mn\u001b[0m\u001b[0;34m,\u001b[0m \u001b[0;34m'a'\u001b[0m\u001b[0;34m:\u001b[0m \u001b[0;36m0.1\u001b[0m\u001b[0;34m,\u001b[0m \u001b[0;34m'b'\u001b[0m\u001b[0;34m:\u001b[0m \u001b[0;36m0.1\u001b[0m\u001b[0;34m}\u001b[0m \u001b[0;31m# data should be stored in a dictionary\u001b[0m\u001b[0;34m\u001b[0m\u001b[0;34m\u001b[0m\u001b[0m\n\u001b[0;32m----> 3\u001b[0;31m \u001b[0mmodel\u001b[0m \u001b[0;34m=\u001b[0m \u001b[0mpyjags\u001b[0m\u001b[0;34m.\u001b[0m\u001b[0mModel\u001b[0m\u001b[0;34m(\u001b[0m\u001b[0mmodel_string\u001b[0m\u001b[0;34m,\u001b[0m \u001b[0mdata\u001b[0m\u001b[0;34m=\u001b[0m \u001b[0mdata\u001b[0m\u001b[0;34m,\u001b[0m \u001b[0minit\u001b[0m\u001b[0;34m=\u001b[0m \u001b[0minits\u001b[0m\u001b[0;34m,\u001b[0m \u001b[0mchains\u001b[0m\u001b[0;34m=\u001b[0m\u001b[0;36m2\u001b[0m\u001b[0;34m)\u001b[0m\u001b[0;34m\u001b[0m\u001b[0;34m\u001b[0m\u001b[0m\n\u001b[0m",
      "\u001b[0;31mNameError\u001b[0m: name 'pyjags' is not defined"
     ]
    }
   ],
   "source": [
    "inits = {'lambda': np.random.gamma(1, 1, n), 'gamma': 1} # initial values for lambda and gamma\n",
    "data = {'Y': Y, 'N': N, 'n': n, 'a': 0.1, 'b': 0.1} # data should be stored in a dictionary\n",
    "model = pyjags.Model(model_string, data= data, init= inits, chains=2)\n"
   ]
  },
  {
   "cell_type": "markdown",
   "id": "be5bf886",
   "metadata": {},
   "source": [
    "### Burn-in for 10000 samples"
   ]
  },
  {
   "cell_type": "code",
   "execution_count": null,
   "id": "ecadb65e",
   "metadata": {},
   "outputs": [],
   "source": [
    "model.update(10000)"
   ]
  },
  {
   "cell_type": "markdown",
   "id": "796c6176",
   "metadata": {},
   "source": [
    "### Generate 20000 post-burn-in samples"
   ]
  },
  {
   "cell_type": "code",
   "execution_count": null,
   "id": "48402f46",
   "metadata": {},
   "outputs": [],
   "source": [
    "samples = model.sample(20000)"
   ]
  },
  {
   "cell_type": "markdown",
   "id": "25c5edc3",
   "metadata": {},
   "source": [
    "### Produce a summary for the MCMC samples"
   ]
  },
  {
   "cell_type": "code",
   "execution_count": null,
   "id": "74004b3e",
   "metadata": {},
   "outputs": [],
   "source": [
    "summary = pd.DataFrame(samples['lambda'])\n",
    "summary.columns = ['lambda1', 'lambda2', 'lambda3', 'lambda4']\n",
    "print(summary.describe())"
   ]
  },
  {
   "cell_type": "markdown",
   "id": "151c876f",
   "metadata": {},
   "source": [
    "### Diagnostic checks"
   ]
  },
  {
   "cell_type": "code",
   "execution_count": null,
   "id": "3b778e45",
   "metadata": {},
   "outputs": [],
   "source": [
    "pyjags.plot_trace(samples)\n",
    "pyjags.plot_autocorrelation(samples)\n",
    "print(pyjags.gelman_rubin(samples))"
   ]
  },
  {
   "cell_type": "markdown",
   "id": "a10ba56d",
   "metadata": {},
   "source": [
    "### Compute 90% credible intervals"
   ]
  },
  {
   "cell_type": "code",
   "execution_count": null,
   "id": "d8c834df",
   "metadata": {},
   "outputs": [],
   "source": [
    "samps = np.concatenate((samples['lambda'][0], samples['lambda'][1]), axis=0)\n",
    "ci = np.quantile(samps, [0.05, 0.95], axis=0)\n",
    "print(ci)"
   ]
  }
 ],
 "metadata": {
  "kernelspec": {
   "display_name": "Python 3 (ipykernel)",
   "language": "python",
   "name": "python3"
  },
  "language_info": {
   "codemirror_mode": {
    "name": "ipython",
    "version": 3
   },
   "file_extension": ".py",
   "mimetype": "text/x-python",
   "name": "python",
   "nbconvert_exporter": "python",
   "pygments_lexer": "ipython3",
   "version": "3.9.16"
  }
 },
 "nbformat": 4,
 "nbformat_minor": 5
}
