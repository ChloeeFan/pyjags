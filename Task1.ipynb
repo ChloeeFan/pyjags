{
 "cells": [
  {
   "cell_type": "code",
   "execution_count": 18,
   "id": "b2b87e5b",
   "metadata": {},
   "outputs": [],
   "source": [
    "import matplotlib.pyplot as plt\n",
    "import pymc3 as pm"
   ]
  },
  {
   "cell_type": "code",
   "execution_count": 20,
   "id": "15097408",
   "metadata": {},
   "outputs": [
    {
     "ename": "ModuleNotFoundError",
     "evalue": "No module named 'jags'",
     "output_type": "error",
     "traceback": [
      "\u001b[0;31m---------------------------------------------------------------------------\u001b[0m",
      "\u001b[0;31mModuleNotFoundError\u001b[0m                       Traceback (most recent call last)",
      "\u001b[0;32m/var/folders/j1/08kjqgs93yx2v5brkn7rdgcm0000gn/T/ipykernel_30393/2064380266.py\u001b[0m in \u001b[0;36m<module>\u001b[0;34m\u001b[0m\n\u001b[0;32m----> 1\u001b[0;31m \u001b[0;32mimport\u001b[0m \u001b[0mjags\u001b[0m\u001b[0;34m\u001b[0m\u001b[0;34m\u001b[0m\u001b[0m\n\u001b[0m",
      "\u001b[0;31mModuleNotFoundError\u001b[0m: No module named 'jags'"
     ]
    }
   ],
   "source": [
    "import pyjags"
   ]
  },
  {
   "cell_type": "code",
   "execution_count": 2,
   "id": "6e8ce3a2",
   "metadata": {},
   "outputs": [
    {
     "name": "stderr",
     "output_type": "stream",
     "text": [
      "<frozen importlib._bootstrap>:228: RuntimeWarning: scipy._lib.messagestream.MessageStream size changed, may indicate binary incompatibility. Expected 56 from C header, got 64 from PyObject\n"
     ]
    }
   ],
   "source": [
    "import pandas as pd\n",
    "import numpy as np\n",
    "import seaborn as sns\n",
    "import matplotlib.pyplot as plt\n",
    "import statsmodels.api as sm\n"
   ]
  },
  {
   "cell_type": "code",
   "execution_count": 3,
   "id": "13c68d10",
   "metadata": {},
   "outputs": [],
   "source": [
    "from sklearn.linear_model import LinearRegression\n",
    "import matplotlib.pyplot as plt\n",
    "import seaborn as sns"
   ]
  },
  {
   "cell_type": "code",
   "execution_count": 4,
   "id": "8811bb1a",
   "metadata": {},
   "outputs": [
    {
     "name": "stderr",
     "output_type": "stream",
     "text": [
      "WARNING (theano.tensor.blas): Using NumPy C-API based implementation for BLAS functions.\n"
     ]
    }
   ],
   "source": [
    "import pymc3 as pm\n",
    "import theano.tensor as tt\n",
    "import scipy\n",
    "from scipy import optimize"
   ]
  },
  {
   "cell_type": "code",
   "execution_count": 14,
   "id": "4a7809ac",
   "metadata": {
    "collapsed": true
   },
   "outputs": [
    {
     "name": "stdout",
     "output_type": "stream",
     "text": [
      "[[ 1  0 23  0]\n",
      " [ 1  0 22  0]\n",
      " [ 1  0 22  0]\n",
      " [ 1  0 25  0]\n",
      " [ 1  0 27  0]\n",
      " [ 1  0 20  0]\n",
      " [ 1  1 31 31]\n",
      " [ 1  1 23 23]\n",
      " [ 1  1 27 27]\n",
      " [ 1  1 28 28]\n",
      " [ 1  1 22 22]\n",
      " [ 1  1 24 24]]\n"
     ]
    }
   ],
   "source": [
    "x1 = np.repeat(1, 12)\n",
    "x2 = np.array([0, 0, 0, 0, 0, 0, 1, 1, 1, 1, 1, 1])\n",
    "x3 = np.array([23 ,22 ,22 ,25 ,27 ,20 ,31 ,23 ,27 ,28 ,22 ,24])\n",
    "x4 = x2 * x3\n",
    "y = np.array([-0.87, -10.74, -3.27, -1.97, 7.50, -7.25, 17.05, 4.96, 10.40, 11.05, 0.26, 2.51])\n",
    "X = np.column_stack([x1, x2, x3, x4])\n",
    "n = X.shape[0]\n",
    "p = X.shape[1]\n",
    "\n",
    "olsresult = sm.OLS(y, X[:,1:]).fit()\n",
    "beta_ols = olsresult.params\n",
    "sigma2head_ols= sum(olsresult.resid ** 2) / (n-p)\n"
   ]
  },
  {
   "cell_type": "code",
   "execution_count": 6,
   "id": "1e8eec2b",
   "metadata": {},
   "outputs": [],
   "source": [
    "Sigma2_0_inv = 0.0001 * np.eye(p - 1)\n",
    "beta_0 = np.zeros(p - 1)\n",
    "nu_0 = 1\n",
    "sig2_0 = sigma2head_ols"
   ]
  },
  {
   "cell_type": "code",
   "execution_count": 7,
   "id": "bd2f0230",
   "metadata": {},
   "outputs": [],
   "source": [
    "model_string = '''\n",
    "model {\n",
    " # Likelihood\n",
    "for i in range(1+n) {\n",
    "y[i] ~ np.random.normal(X[i][0] * beta[0] + X[i][1] * beta[1] + X[i][2] * beta[2] + X[i][3] * beta[3], sigmainv)\n",
    "}\n",
    "    \n",
    "# Priors\n",
    "sigmainv~ np.random.gamma(nu_0/2, sig2_0*nu_0/2)\n",
    "beta~ np.random.multivariate_normal(c(0,0,0,0), Sigma2.0.inv)\n",
    "sigma = inv(sigmainv)\n",
    "} '''\n"
   ]
  },
  {
   "cell_type": "code",
   "execution_count": null,
   "id": "4ac5144e",
   "metadata": {},
   "outputs": [],
   "source": [
    "model_string = \"\"\"\n",
    "model {\n",
    "  # Likelihood: CAREFUL, in JAGS dnorm(mean, precision)\n",
    "  for (i in 1:n){\n",
    "    y[i] ~ dnorm(X[i,1] * beta[1] + X[i,2] * beta[2] + X[i,3] * beta[3] + X[i,4] * beta[4], sigmainv)\n",
    "  }\n",
    "  \n",
    "  # Prior distributions\n",
    "  sigmainv ~ dgamma(nu_0 / 2, sig2_0 * nu_0 / 2)\n",
    "  beta ~ dmnorm(beta_0, Sigma2_0_inv)\n",
    "  sigma = inverse(sigmainv)\n",
    "}\n",
    "\"\"\""
   ]
  },
  {
   "cell_type": "code",
   "execution_count": 8,
   "id": "207b3132",
   "metadata": {},
   "outputs": [],
   "source": [
    "#Data and initial values to be input in the model\n",
    "\n",
    "data = {\"X\": X, \"nu_0\": nu_0, \"sig2_0\": sig2_0 , \"Sigma2_0_inv\": Sigma2_0_inv, \"y\": y, \"n\": n}\n",
    "inits = [{'beta': beta_ols, 'sigma_inv': 1/sigma2head_ols}]"
   ]
  },
  {
   "cell_type": "code",
   "execution_count": 19,
   "id": "082482ae",
   "metadata": {
    "collapsed": true
   },
   "outputs": [
    {
     "ename": "NameError",
     "evalue": "name 'pyjags' is not defined",
     "output_type": "error",
     "traceback": [
      "\u001b[0;31m---------------------------------------------------------------------------\u001b[0m",
      "\u001b[0;31mNameError\u001b[0m                                 Traceback (most recent call last)",
      "\u001b[0;32m/var/folders/j1/08kjqgs93yx2v5brkn7rdgcm0000gn/T/ipykernel_57571/666849217.py\u001b[0m in \u001b[0;36m<module>\u001b[0;34m\u001b[0m\n\u001b[0;32m----> 1\u001b[0;31m \u001b[0mmodel\u001b[0m \u001b[0;34m=\u001b[0m \u001b[0mpyjags\u001b[0m\u001b[0;34m.\u001b[0m\u001b[0mModel\u001b[0m\u001b[0;34m(\u001b[0m\u001b[0mmodel_string\u001b[0m\u001b[0;34m,\u001b[0m \u001b[0mdata\u001b[0m \u001b[0;34m=\u001b[0m \u001b[0mdict\u001b[0m\u001b[0;34m(\u001b[0m\u001b[0mdata\u001b[0m\u001b[0;34m)\u001b[0m\u001b[0;34m,\u001b[0m \u001b[0minit\u001b[0m \u001b[0;34m=\u001b[0m \u001b[0mdict\u001b[0m\u001b[0;34m(\u001b[0m\u001b[0minits\u001b[0m\u001b[0;34m)\u001b[0m\u001b[0;34m,\u001b[0m \u001b[0mchains\u001b[0m \u001b[0;34m=\u001b[0m \u001b[0;36m2\u001b[0m\u001b[0;34m)\u001b[0m\u001b[0;34m\u001b[0m\u001b[0;34m\u001b[0m\u001b[0m\n\u001b[0m",
      "\u001b[0;31mNameError\u001b[0m: name 'pyjags' is not defined"
     ]
    }
   ],
   "source": [
    "#compile the model, 2 chains to be generated\n",
    "\n",
    "model = pyjags.Model(model_string, data = dict(data), init = dict(inits), chains = 2)"
   ]
  },
  {
   "cell_type": "code",
   "execution_count": null,
   "id": "3c7c1b29",
   "metadata": {},
   "outputs": [],
   "source": [
    "#Burn-in for 1000 samples for each chain\n",
    "\n",
    "model.update(1000)"
   ]
  },
  {
   "cell_type": "code",
   "execution_count": null,
   "id": "e3ab1a0c",
   "metadata": {},
   "outputs": [],
   "source": [
    "#Generate 10000 post-burn-in samples for each chain\n",
    "\n",
    "samples = model.sample(10000)"
   ]
  },
  {
   "cell_type": "code",
   "execution_count": 20,
   "id": "7bb7de3a",
   "metadata": {
    "collapsed": true
   },
   "outputs": [
    {
     "ename": "NameError",
     "evalue": "name 'update' is not defined",
     "output_type": "error",
     "traceback": [
      "\u001b[0;31m---------------------------------------------------------------------------\u001b[0m",
      "\u001b[0;31mNameError\u001b[0m                                 Traceback (most recent call last)",
      "\u001b[0;32m/var/folders/j1/08kjqgs93yx2v5brkn7rdgcm0000gn/T/ipykernel_57571/888663306.py\u001b[0m in \u001b[0;36m<module>\u001b[0;34m\u001b[0m\n\u001b[0;32m----> 1\u001b[0;31m \u001b[0mupdate\u001b[0m\u001b[0;34m(\u001b[0m\u001b[0mmodel\u001b[0m\u001b[0;34m,\u001b[0m \u001b[0;36m1000\u001b[0m\u001b[0;34m)\u001b[0m\u001b[0;34m\u001b[0m\u001b[0;34m\u001b[0m\u001b[0m\n\u001b[0m",
      "\u001b[0;31mNameError\u001b[0m: name 'update' is not defined"
     ]
    }
   ],
   "source": [
    "# Summarize the output\n",
    "\n",
    "summary = pd.DataFrame(samples['beta'])\n",
    "summary.columns = ['Intercept', 'beta2', 'beta3', 'beta4']\n",
    "print(summary.describe())"
   ]
  },
  {
   "cell_type": "code",
   "execution_count": 9,
   "id": "b346fb68",
   "metadata": {},
   "outputs": [],
   "source": [
    "params = ['beta','sigma']"
   ]
  },
  {
   "cell_type": "code",
   "execution_count": 10,
   "id": "3ccbf446",
   "metadata": {
    "collapsed": true
   },
   "outputs": [
    {
     "ename": "NameError",
     "evalue": "name 'model' is not defined",
     "output_type": "error",
     "traceback": [
      "\u001b[0;31m---------------------------------------------------------------------------\u001b[0m",
      "\u001b[0;31mNameError\u001b[0m                                 Traceback (most recent call last)",
      "\u001b[0;32m/var/folders/j1/08kjqgs93yx2v5brkn7rdgcm0000gn/T/ipykernel_30393/1194443549.py\u001b[0m in \u001b[0;36m<module>\u001b[0;34m\u001b[0m\n\u001b[0;32m----> 1\u001b[0;31m \u001b[0msamples\u001b[0m \u001b[0;34m=\u001b[0m \u001b[0mmodel\u001b[0m\u001b[0;34m.\u001b[0m\u001b[0msample\u001b[0m\u001b[0;34m(\u001b[0m\u001b[0;36m10000\u001b[0m\u001b[0;34m,\u001b[0m \u001b[0mvars\u001b[0m\u001b[0;34m=\u001b[0m\u001b[0;34m[\u001b[0m\u001b[0;34m'beta'\u001b[0m\u001b[0;34m,\u001b[0m\u001b[0;34m'sigma'\u001b[0m\u001b[0;34m]\u001b[0m\u001b[0;34m)\u001b[0m\u001b[0;34m\u001b[0m\u001b[0;34m\u001b[0m\u001b[0m\n\u001b[0m",
      "\u001b[0;31mNameError\u001b[0m: name 'model' is not defined"
     ]
    }
   ],
   "source": [
    "samples = model.sample(10000, vars=['beta','sigma'])"
   ]
  },
  {
   "cell_type": "code",
   "execution_count": null,
   "id": "94c794a2",
   "metadata": {},
   "outputs": [],
   "source": []
  },
  {
   "cell_type": "code",
   "execution_count": 9,
   "id": "9cf981a9",
   "metadata": {},
   "outputs": [
    {
     "ename": "SyntaxError",
     "evalue": "invalid syntax (4189598543.py, line 1)",
     "output_type": "error",
     "traceback": [
      "\u001b[0;36m  File \u001b[0;32m\"/var/folders/j1/08kjqgs93yx2v5brkn7rdgcm0000gn/T/ipykernel_57571/4189598543.py\"\u001b[0;36m, line \u001b[0;32m1\u001b[0m\n\u001b[0;31m    pd.DataFrame.as_matrix(X[[1]][,1:4])\u001b[0m\n\u001b[0m                                  ^\u001b[0m\n\u001b[0;31mSyntaxError\u001b[0m\u001b[0;31m:\u001b[0m invalid syntax\n"
     ]
    }
   ],
   "source": [
    "pd.DataFrame.as_matrix(samples[[1]][,1:4])\n",
    "pd.DataFrame.as_matrix(samples[[2]][,1:4])\n",
    "beta = pd.concat([pd.DataFrame.as_matrix(samples[[1]][,1:4]), pd.DataFrame.as_matrix(samples[[2]][,1:4])])"
   ]
  },
  {
   "cell_type": "code",
   "execution_count": 11,
   "id": "1540059a",
   "metadata": {},
   "outputs": [],
   "source": [
    "fig, axes = plt.subplots(1, 3)\n",
    "ax = axes.ravel()\n",
    "x = np.linspace(start=-85, stop=130, num=200)\n",
    "plt.plot()"
   ]
  },
  {
   "cell_type": "code",
   "execution_count": null,
   "id": "c45f591a",
   "metadata": {},
   "outputs": [],
   "source": [
    "# Plot the output\n",
    "\n",
    "plt.figure(figsize=(10, 6))\n",
    "plt.subplot(1, 3, 1)\n",
    "plt.hist(samples['beta2'], bins=20)\n",
    "plt.xlabel('beta2')\n",
    "plt.axvline(0, color='gray')\n",
    "plt.subplot(1, 3, 2)\n",
    "plt.hist(samples['beta4'], bins=20)\n",
    "plt.xlabel('beta4')\n",
    "plt.axvline(0, color='gray')\n",
    "plt.subplot(1, 3, 3)\n",
    "plt.scatter(samples['beta2'], samples['beta4'])\n",
    "plt.xlabel('beta2')\n",
    "plt.ylabel('beta4')\n",
    "plt.show()"
   ]
  },
  {
   "cell_type": "code",
   "execution_count": null,
   "id": "89a22245",
   "metadata": {},
   "outputs": [],
   "source": [
    "# Box-plots of beta_2+beta_4*age for different ages\n",
    "\n",
    "BX = np.empty((0, 12))\n",
    "for s in range(samples['beta2'].shape[0]):\n",
    "    BX = np.vstack((BX, (np.arange(20, 32) * samples['beta4'][s] + samples['beta2'][s])))\n",
    "\n",
    "plt.figure(figsize=(8, 6))\n",
    "plt.boxplot(BX.T, labels=np.arange(20, 32))\n",
    "plt.xlabel('age groups from 20 to 31')\n",
    "plt.ylabel('beta2 + beta4 * age')\n",
    "plt.axhline(0, color='gray')\n",
    "plt.show()\n"
   ]
  },
  {
   "cell_type": "code",
   "execution_count": null,
   "id": "f7544073",
   "metadata": {},
   "outputs": [],
   "source": [
    "# Diagnostic plots\n",
    "\n",
    "plt.figure(figsize=(10, 6))\n",
    "plt.subplot(1, 2, 1)\n",
    "plt.plot(samples['beta2'])\n",
    "plt.xlabel('Iteration')\n",
    "plt.ylabel('beta2')\n",
    "plt.subplot(1, 2, 2)\n",
    "plt.acorr(samples['beta2'], maxlags=50)\n",
    "plt.xlabel('Lag')\n",
    "plt.ylabel('Autocorrelation')\n",
    "plt.show()"
   ]
  }
 ],
 "metadata": {
  "kernelspec": {
   "display_name": "Python 3 (ipykernel)",
   "language": "python",
   "name": "python3"
  },
  "language_info": {
   "codemirror_mode": {
    "name": "ipython",
    "version": 3
   },
   "file_extension": ".py",
   "mimetype": "text/x-python",
   "name": "python",
   "nbconvert_exporter": "python",
   "pygments_lexer": "ipython3",
   "version": "3.9.16"
  }
 },
 "nbformat": 4,
 "nbformat_minor": 5
}
