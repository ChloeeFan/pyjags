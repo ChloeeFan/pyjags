{
 "cells": [
  {
   "cell_type": "code",
   "execution_count": 8,
   "id": "b2b87e5b",
   "metadata": {},
   "outputs": [],
   "source": [
    "import matplotlib.pyplot as plt"
   ]
  },
  {
   "cell_type": "code",
   "execution_count": 11,
   "id": "6e8ce3a2",
   "metadata": {},
   "outputs": [
    {
     "name": "stderr",
     "output_type": "stream",
     "text": [
      "<frozen importlib._bootstrap>:228: RuntimeWarning: scipy._lib.messagestream.MessageStream size changed, may indicate binary incompatibility. Expected 56 from C header, got 64 from PyObject\n"
     ]
    }
   ],
   "source": [
    "import pandas as pd\n",
    "import numpy as np\n",
    "import matplotlib.pyplot as plt\n",
    "import statsmodels.api as sm\n"
   ]
  },
  {
   "cell_type": "code",
   "execution_count": 12,
   "id": "13c68d10",
   "metadata": {},
   "outputs": [],
   "source": [
    "from sklearn.linear_model import LinearRegression\n",
    "import matplotlib.pyplot as plt\n",
    "import seaborn as sns"
   ]
  },
  {
   "cell_type": "code",
   "execution_count": 13,
   "id": "8811bb1a",
   "metadata": {},
   "outputs": [
    {
     "name": "stderr",
     "output_type": "stream",
     "text": [
      "WARNING (theano.tensor.blas): Using NumPy C-API based implementation for BLAS functions.\n"
     ]
    }
   ],
   "source": [
    "import pymc3 as pm\n",
    "import theano.tensor as tt\n",
    "import scipy\n",
    "from scipy import optimize"
   ]
  },
  {
   "cell_type": "code",
   "execution_count": 14,
   "id": "4a7809ac",
   "metadata": {
    "scrolled": true
   },
   "outputs": [],
   "source": [
    "x1 = np.repeat(1, 12)\n",
    "x2 = np.array([0, 0, 0, 0, 0, 0, 1, 1, 1, 1, 1, 1])\n",
    "x3 = np.array([23 ,22 ,22 ,25 ,27 ,20 ,31 ,23 ,27 ,28 ,22 ,24])\n",
    "x4 = x2 * x3\n",
    "y = np.array([-0.87, -10.74, -3.27, -1.97, 7.50, -7.25, 17.05, 4.96, 10.40, 11.05, 0.26, 2.51])\n",
    "X = np.transpose(np.array([x1, x2, x3, x4]))\n",
    "dim = np.shape(X)\n",
    "p = dim[1]\n",
    "n = dim[0]\n",
    "X1 = np.transpose(np.array([x2, x3, x4]))\n",
    "\n",
    "olsresult = sm.OLS(y, X1).fit()\n",
    "beta_ols = olsresult.params\n",
    "sigma2head_ols= sum(olsresult.resid ** 2) / (n-p)"
   ]
  },
  {
   "cell_type": "code",
   "execution_count": 15,
   "id": "1e8eec2b",
   "metadata": {},
   "outputs": [],
   "source": [
    "a = [1,1,1,1]\n",
    "Sigma2_0_inv = np.diag(a)* 0.0001\n",
    "beta_0 = [0,0,0,0]\n",
    "nu_0 = 1\n",
    "sig2_0 = sigma2head_ols"
   ]
  },
  {
   "cell_type": "code",
   "execution_count": 17,
   "id": "bd2f0230",
   "metadata": {},
   "outputs": [],
   "source": [
    "model_string = '''\n",
    "model {\n",
    " # Likelihood\n",
    "for i in range(1+n) {\n",
    "y[i] ~ np.random.normal(X[i][0] * beta[0] + X[i][1] * beta[1] + X[i][2] * beta[2] + X[i][3] * beta[3], sigmainv)\n",
    "}\n",
    "    \n",
    "# Priors\n",
    "sigmainv~ np.random.gamma(nu_0/2, sig2_0*nu_0/2)\n",
    "beta~ np.random.multivariate_normal(c(0,0,0,0), Sigma2.0.inv)\n",
    "sigma = inv(sigmainv)\n",
    "} '''\n"
   ]
  },
  {
   "cell_type": "code",
   "execution_count": 18,
   "id": "207b3132",
   "metadata": {},
   "outputs": [],
   "source": [
    "data = {\"X\": X, \"nu_0\": nu_0, \"sig2_0\": sig2_0 , \"Sigma2_0_inv\": Sigma2_0_inv, \"y\": y, \"n\": n}\n",
    "inits = {\"beta\" : beta_ols, \"sigmainv\" : 1/(sigma2head_ols)}"
   ]
  },
  {
   "cell_type": "code",
   "execution_count": 19,
   "id": "082482ae",
   "metadata": {},
   "outputs": [
    {
     "ename": "NameError",
     "evalue": "name 'pyjags' is not defined",
     "output_type": "error",
     "traceback": [
      "\u001b[0;31m---------------------------------------------------------------------------\u001b[0m",
      "\u001b[0;31mNameError\u001b[0m                                 Traceback (most recent call last)",
      "\u001b[0;32m/var/folders/j1/08kjqgs93yx2v5brkn7rdgcm0000gn/T/ipykernel_57571/666849217.py\u001b[0m in \u001b[0;36m<module>\u001b[0;34m\u001b[0m\n\u001b[0;32m----> 1\u001b[0;31m \u001b[0mmodel\u001b[0m \u001b[0;34m=\u001b[0m \u001b[0mpyjags\u001b[0m\u001b[0;34m.\u001b[0m\u001b[0mModel\u001b[0m\u001b[0;34m(\u001b[0m\u001b[0mmodel_string\u001b[0m\u001b[0;34m,\u001b[0m \u001b[0mdata\u001b[0m \u001b[0;34m=\u001b[0m \u001b[0mdict\u001b[0m\u001b[0;34m(\u001b[0m\u001b[0mdata\u001b[0m\u001b[0;34m)\u001b[0m\u001b[0;34m,\u001b[0m \u001b[0minit\u001b[0m \u001b[0;34m=\u001b[0m \u001b[0mdict\u001b[0m\u001b[0;34m(\u001b[0m\u001b[0minits\u001b[0m\u001b[0;34m)\u001b[0m\u001b[0;34m,\u001b[0m \u001b[0mchains\u001b[0m \u001b[0;34m=\u001b[0m \u001b[0;36m2\u001b[0m\u001b[0;34m)\u001b[0m\u001b[0;34m\u001b[0m\u001b[0;34m\u001b[0m\u001b[0m\n\u001b[0m",
      "\u001b[0;31mNameError\u001b[0m: name 'pyjags' is not defined"
     ]
    }
   ],
   "source": [
    "model = pyjags.Model(model_string, data = dict(data), init = dict(inits), chains = 2)"
   ]
  },
  {
   "cell_type": "code",
   "execution_count": 20,
   "id": "7bb7de3a",
   "metadata": {},
   "outputs": [
    {
     "ename": "NameError",
     "evalue": "name 'update' is not defined",
     "output_type": "error",
     "traceback": [
      "\u001b[0;31m---------------------------------------------------------------------------\u001b[0m",
      "\u001b[0;31mNameError\u001b[0m                                 Traceback (most recent call last)",
      "\u001b[0;32m/var/folders/j1/08kjqgs93yx2v5brkn7rdgcm0000gn/T/ipykernel_57571/888663306.py\u001b[0m in \u001b[0;36m<module>\u001b[0;34m\u001b[0m\n\u001b[0;32m----> 1\u001b[0;31m \u001b[0mupdate\u001b[0m\u001b[0;34m(\u001b[0m\u001b[0mmodel\u001b[0m\u001b[0;34m,\u001b[0m \u001b[0;36m1000\u001b[0m\u001b[0;34m)\u001b[0m\u001b[0;34m\u001b[0m\u001b[0;34m\u001b[0m\u001b[0m\n\u001b[0m",
      "\u001b[0;31mNameError\u001b[0m: name 'update' is not defined"
     ]
    }
   ],
   "source": [
    "update(model, 1000)"
   ]
  },
  {
   "cell_type": "code",
   "execution_count": 21,
   "id": "b346fb68",
   "metadata": {},
   "outputs": [],
   "source": [
    "params = ['beta','sigma']"
   ]
  },
  {
   "cell_type": "code",
   "execution_count": 22,
   "id": "3ccbf446",
   "metadata": {},
   "outputs": [
    {
     "ename": "NameError",
     "evalue": "name 'model' is not defined",
     "output_type": "error",
     "traceback": [
      "\u001b[0;31m---------------------------------------------------------------------------\u001b[0m",
      "\u001b[0;31mNameError\u001b[0m                                 Traceback (most recent call last)",
      "\u001b[0;32m/var/folders/j1/08kjqgs93yx2v5brkn7rdgcm0000gn/T/ipykernel_57571/1194443549.py\u001b[0m in \u001b[0;36m<module>\u001b[0;34m\u001b[0m\n\u001b[0;32m----> 1\u001b[0;31m \u001b[0msamples\u001b[0m \u001b[0;34m=\u001b[0m \u001b[0mmodel\u001b[0m\u001b[0;34m.\u001b[0m\u001b[0msample\u001b[0m\u001b[0;34m(\u001b[0m\u001b[0;36m10000\u001b[0m\u001b[0;34m,\u001b[0m \u001b[0mvars\u001b[0m\u001b[0;34m=\u001b[0m\u001b[0;34m[\u001b[0m\u001b[0;34m'beta'\u001b[0m\u001b[0;34m,\u001b[0m\u001b[0;34m'sigma'\u001b[0m\u001b[0;34m]\u001b[0m\u001b[0;34m)\u001b[0m\u001b[0;34m\u001b[0m\u001b[0;34m\u001b[0m\u001b[0m\n\u001b[0m",
      "\u001b[0;31mNameError\u001b[0m: name 'model' is not defined"
     ]
    }
   ],
   "source": [
    "samples = model.sample(10000, vars=['beta','sigma'])"
   ]
  },
  {
   "cell_type": "code",
   "execution_count": null,
   "id": "94c794a2",
   "metadata": {},
   "outputs": [],
   "source": [
    "def summary(samples, varname, p=95):\n",
    "values = samples[varname]\n",
    "ci = np.percentile(values, [100-p, p])\n",
    "print('{:<6} mean = {:>5.1f}, {}% credible interval [{:>4.1f} {:>4.1f}]'.format(\n",
    "      varname, np.mean(values), p, *ci))\n",
    "\n",
    "for varname in ['beta','sigma']: summary(samples, varname)\n",
    "    \n",
    "plt.plot(samples)\n",
    "plt.show()"
   ]
  },
  {
   "cell_type": "code",
   "execution_count": 9,
   "id": "9cf981a9",
   "metadata": {},
   "outputs": [
    {
     "ename": "SyntaxError",
     "evalue": "invalid syntax (4189598543.py, line 1)",
     "output_type": "error",
     "traceback": [
      "\u001b[0;36m  File \u001b[0;32m\"/var/folders/j1/08kjqgs93yx2v5brkn7rdgcm0000gn/T/ipykernel_57571/4189598543.py\"\u001b[0;36m, line \u001b[0;32m1\u001b[0m\n\u001b[0;31m    pd.DataFrame.as_matrix(X[[1]][,1:4])\u001b[0m\n\u001b[0m                                  ^\u001b[0m\n\u001b[0;31mSyntaxError\u001b[0m\u001b[0;31m:\u001b[0m invalid syntax\n"
     ]
    }
   ],
   "source": [
    "pd.DataFrame.as_matrix(X[[1]][,1:4])"
   ]
  },
  {
   "cell_type": "code",
   "execution_count": 24,
   "id": "1540059a",
   "metadata": {},
   "outputs": [
    {
     "data": {
      "text/plain": [
       "array([ 1,  0, 22,  0])"
      ]
     },
     "execution_count": 24,
     "metadata": {},
     "output_type": "execute_result"
    }
   ],
   "source": []
  },
  {
   "cell_type": "code",
   "execution_count": null,
   "id": "89a22245",
   "metadata": {},
   "outputs": [],
   "source": []
  }
 ],
 "metadata": {
  "kernelspec": {
   "display_name": "Python 3 (ipykernel)",
   "language": "python",
   "name": "python3"
  },
  "language_info": {
   "codemirror_mode": {
    "name": "ipython",
    "version": 3
   },
   "file_extension": ".py",
   "mimetype": "text/x-python",
   "name": "python",
   "nbconvert_exporter": "python",
   "pygments_lexer": "ipython3",
   "version": "3.9.16"
  }
 },
 "nbformat": 4,
 "nbformat_minor": 5
}
