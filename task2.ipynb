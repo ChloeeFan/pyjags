{
 "cells": [
  {
   "cell_type": "code",
   "execution_count": 1,
   "id": "44d06a25",
   "metadata": {},
   "outputs": [
    {
     "name": "stderr",
     "output_type": "stream",
     "text": [
      "/Users/yinx/opt/anaconda3/lib/python3.8/site-packages/pandas/core/computation/expressions.py:20: UserWarning: Pandas requires version '2.7.3' or newer of 'numexpr' (version '2.7.1' currently installed).\n",
      "  from pandas.core.computation.check import NUMEXPR_INSTALLED\n"
     ]
    }
   ],
   "source": [
    "import numpy as np\n",
    "import pandas as pd\n",
    "import matplotlib.pyplot as plt\n",
    "import pyjags\n"
   ]
  },
  {
   "cell_type": "code",
   "execution_count": 2,
   "id": "f5960c93",
   "metadata": {},
   "outputs": [],
   "source": [
    "# Load the NFL concussions data\n",
    "Y = np.array([171, 152, 123, 199])\n",
    "n = 4\n",
    "N = 256"
   ]
  },
  {
   "cell_type": "code",
   "execution_count": 3,
   "id": "a3ccb433",
   "metadata": {},
   "outputs": [],
   "source": [
    "# Define the model as a string\n",
    "model_string = '''\n",
    "model{\n",
    "  \n",
    "  # Likelihood\n",
    "  for(i in 1:n){\n",
    "    Y[i] ~ dpois(N * lambda[i])\n",
    "  }\n",
    "  \n",
    "  # Priors\n",
    "  for(i in 1:n){\n",
    "    lambda[i] ~ dgamma(1, gamma)\n",
    "  }\n",
    "  gamma ~ dgamma(a, b)\n",
    "}\n",
    "'''"
   ]
  },
  {
   "cell_type": "code",
   "execution_count": 4,
   "id": "3b96bbc3",
   "metadata": {},
   "outputs": [
    {
     "ename": "",
     "evalue": "",
     "output_type": "error",
     "traceback": [
      "\u001b[1;31mCannot execute code, session has been disposed. Please try restarting the Kernel."
     ]
    },
    {
     "ename": "",
     "evalue": "",
     "output_type": "error",
     "traceback": [
      "\u001b[1;31mThe Kernel crashed while executing code in the the current cell or a previous cell. Please review the code in the cell(s) to identify a possible cause of the failure. Click <a href='https://aka.ms/vscodeJupyterKernelCrash'>here</a> for more info. View Jupyter <a href='command:jupyter.viewOutput'>log</a> for further details."
     ]
    }
   ],
   "source": [
    "# Load the data and compile the MCMC code\n",
    "\n",
    "inits = {'lambda': np.random.gamma(1, 1, n), 'gamma': 1} # initial values for lambda and gamma\n",
    "data = {'Y': Y, 'N': N, 'n': n, 'a': 0.1, 'b': 0.1} # data should be stored in a dictionary\n",
    "# model = pyjags.Model(model_string, data=data, init=inits, chains=2)\n",
    "model = pyjags.Model(model_string, data= dict(data), init=dict(inits), chains=2)"
   ]
  },
  {
   "cell_type": "code",
   "execution_count": null,
   "id": "ecadb65e",
   "metadata": {},
   "outputs": [],
   "source": [
    "# Burn-in for 10000 samples\n",
    "model.update(10000)\n",
    "\n",
    "# Generate 20000 post-burn-in samples\n",
    "samples = model.sample(20000)"
   ]
  },
  {
   "cell_type": "code",
   "execution_count": null,
   "id": "74004b3e",
   "metadata": {},
   "outputs": [],
   "source": [
    "# Produce a summary for the MCMC samples\n",
    "\n",
    "summary = pd.DataFrame(samples['lambda'])\n",
    "summary.columns = ['lambda1', 'lambda2', 'lambda3', 'lambda4']\n",
    "print(summary.describe())\n"
   ]
  },
  {
   "cell_type": "code",
   "execution_count": null,
   "id": "3b778e45",
   "metadata": {},
   "outputs": [],
   "source": [
    "# Diagnostic checks\n",
    "plt.figure(figsize=(10, 6))\n",
    "plt.subplot(2, 2, 1)\n",
    "plt.plot(samples['lambda'][:, 0])\n",
    "plt.xlabel('Iteration')\n",
    "plt.ylabel('lambda1')\n",
    "plt.subplot(2, 2, 2)\n",
    "plt.plot(samples['lambda'][:, 1])\n",
    "plt.xlabel('Iteration')\n",
    "plt.ylabel('lambda2')\n",
    "plt.subplot(2, 2, 3)\n",
    "plt.plot(samples['lambda'][:, 2])\n",
    "plt.xlabel('Iteration')\n",
    "plt.ylabel('lambda3')\n",
    "plt.subplot(2, 2, 4)\n",
    "plt.plot(samples['lambda'][:, 3])\n",
    "plt.xlabel('Iteration')\n",
    "plt.ylabel('lambda4')\n",
    "plt.tight_layout()\n",
    "plt.show()\n",
    "\n",
    "plt.figure(figsize=(10, 6))\n",
    "plt.subplot(2, 2, 1)\n",
    "plt.hist(samples['lambda'][:, 0], bins=20)\n",
    "plt.xlabel('lambda1')\n",
    "plt.subplot(2, 2, 2)\n",
    "plt.hist(samples['lambda'][:, 1], bins=20)\n",
    "plt.xlabel('lambda2')\n",
    "plt.subplot(2, 2, 3)\n",
    "plt.hist(samples['lambda'][:, 2], bins=20)\n",
    "plt.xlabel('lambda3')\n",
    "plt.subplot(2, 2, 4)\n",
    "plt.hist(samples['lambda'][:, 3], bins=20)\n",
    "plt.xlabel('lambda4')\n",
    "plt.tight_layout()\n",
    "plt.show()\n",
    "\n",
    "plt.figure(figsize=(10, 6))\n",
    "plt.subplot(2, 2, 1)\n",
    "plt.plot(samples['lambda'][:, 0])\n",
    "plt.xlabel('Iteration')\n",
    "plt.ylabel('lambda1')\n",
    "plt.subplot(2, 2, 2)\n",
    "plt.plot(samples['lambda'][:, 1])\n",
    "plt.xlabel('Iteration')\n",
    "plt.ylabel('lambda2')\n",
    "plt.subplot(2, 2, 3)\n",
    "plt.plot(samples['lambda'][:, 2])\n",
    "plt.xlabel('Iteration')\n",
    "plt.ylabel('lambda3')\n",
    "plt.subplot(2, 2, 4)\n",
    "plt.plot(samples['lambda'][:, 3])\n",
    "plt.xlabel('Iteration')\n",
    "plt.ylabel('lambda4')\n",
    "plt.tight_layout()\n",
    "plt.show()"
   ]
  },
  {
   "cell_type": "code",
   "execution_count": null,
   "id": "d8c834df",
   "metadata": {},
   "outputs": [],
   "source": [
    "# Compute 90% credible intervals\n",
    "samps = np.vstack((samples['lambda'][:, 0], samples['lambda'][:, 1], samples['lambda'][:, 2], samples['lambda'][:, 3])).T\n",
    "cred_int = np.apply_along_axis(lambda x: np.quantile(x, [0.05, 0.95]), axis=0, arr=samps)\n",
    "print(cred_int)"
   ]
  }
 ],
 "metadata": {
  "kernelspec": {
   "display_name": "Python 3 (ipykernel)",
   "language": "python",
   "name": "python3"
  },
  "language_info": {
   "codemirror_mode": {
    "name": "ipython",
    "version": 3
   },
   "file_extension": ".py",
   "mimetype": "text/x-python",
   "name": "python",
   "nbconvert_exporter": "python",
   "pygments_lexer": "ipython3",
   "version": "3.8.5"
  }
 },
 "nbformat": 4,
 "nbformat_minor": 5
}
