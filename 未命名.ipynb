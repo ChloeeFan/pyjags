{
 "cells": [
  {
   "cell_type": "code",
   "execution_count": 2,
   "id": "ff6bd167",
   "metadata": {},
   "outputs": [],
   "source": [
    "\"\"\"\n",
    "Setup a model and data\n",
    "\"\"\"\n",
    "\n",
    "import numpy as np\n",
    "\n",
    "# set the true values of the model parameters for creating the data\n",
    "m = 3.5 # gradient of the line\n",
    "c = 1.2 # y-intercept of the line\n",
    "\n",
    "# set the \"predictor variable\"/abscissa\n",
    "M = 50\n",
    "xmin = 0.\n",
    "xmax = 10.\n",
    "stepsize = (xmax-xmin)/M\n",
    "x = np.arange(xmin, xmax, stepsize)\n",
    "\n",
    "# define the model function\n",
    "def straight_line(x, m, c):\n",
    "    \"\"\"\n",
    "    A straight line model: y = m*x + c\n",
    "    \n",
    "    Args:\n",
    "        x (list): a set of abscissa points at which the model is defined\n",
    "        m (float): the gradient of the line\n",
    "        c (float): the y-intercept of the line\n",
    "    \"\"\"\n",
    "    \n",
    "    return m * x + c\n",
    "\n",
    "# create the data - the model plus Gaussian noise\n",
    "sigma = 2.0  # standard deviation of the noise\n",
    "data = straight_line(x, m, c) + np.random.normal(scale=sigma, size=M)\n",
    "\n"
   ]
  },
  {
   "cell_type": "code",
   "execution_count": 3,
   "id": "25639318",
   "metadata": {},
   "outputs": [
    {
     "name": "stdout",
     "output_type": "stream",
     "text": [
      "[ 1.89726875  3.7303982   4.36635982  1.00087664  1.76772603  2.24856563\n",
      "  5.82450197  7.32724288  7.47659579  5.52589795  7.27589259  5.84685806\n",
      "  8.87914818  7.74108034  8.53388109 11.34691105 10.52409933 12.80807704\n",
      " 14.07146187 15.95570486 13.58634145 15.16900875 13.77813582 15.26762763\n",
      " 19.66027547 17.96903385 17.49366607 20.32457118 18.28809385 24.73422663\n",
      " 23.74165163 26.52914628 27.98871616 23.70732172 22.95452806 24.4457628\n",
      " 25.82807009 27.95027061 26.7326318  30.48286154 27.8343764  30.74511799\n",
      " 30.52600319 27.66922756 31.46333905 33.78045057 31.02451206 30.89823714\n",
      " 37.58781611 34.31976368]\n"
     ]
    }
   ],
   "source": [
    "print(data)"
   ]
  },
  {
   "cell_type": "code",
   "execution_count": 5,
   "id": "6b61eba9",
   "metadata": {},
   "outputs": [],
   "source": [
    "from __future__ import print_function, division\n",
    "\n",
    "import os\n",
    "import sys\n",
    "import numpy as np\n",
    "\n",
    "import matplotlib as mpl\n",
    "mpl.use(\"Agg\") # force Matplotlib backend to Agg\n"
   ]
  },
  {
   "cell_type": "code",
   "execution_count": null,
   "id": "c51a575d",
   "metadata": {},
   "outputs": [],
   "source": []
  }
 ],
 "metadata": {
  "kernelspec": {
   "display_name": "Python 3 (ipykernel)",
   "language": "python",
   "name": "python3"
  },
  "language_info": {
   "codemirror_mode": {
    "name": "ipython",
    "version": 3
   },
   "file_extension": ".py",
   "mimetype": "text/x-python",
   "name": "python",
   "nbconvert_exporter": "python",
   "pygments_lexer": "ipython3",
   "version": "3.9.16"
  }
 },
 "nbformat": 4,
 "nbformat_minor": 5
}
