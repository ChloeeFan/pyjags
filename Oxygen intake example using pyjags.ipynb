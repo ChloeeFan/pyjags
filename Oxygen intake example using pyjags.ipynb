{
 "cells": [
  {
   "cell_type": "code",
   "execution_count": 1,
   "id": "6e8ce3a2",
   "metadata": {
    "scrolled": true
   },
   "outputs": [],
   "source": [
    "import pyjags\n",
    "import numpy as np\n",
    "import matplotlib.pyplot as plt\n",
    "from coda import codaPkg"
   ]
  },
  {
   "cell_type": "markdown",
   "id": "b51619b4",
   "metadata": {},
   "source": [
    "### Oxygen uptake data"
   ]
  },
  {
   "cell_type": "code",
   "execution_count": 3,
   "id": "4a7809ac",
   "metadata": {
    "scrolled": true
   },
   "outputs": [],
   "source": [
    "x1 = np.ones(12)\n",
    "x2 = np.array([0, 0, 0, 0, 0, 0, 1, 1, 1, 1, 1, 1])\n",
    "x3 = np.array([23, 22, 22, 25, 27, 20, 31, 23, 27, 28, 22, 24])\n",
    "x4 = x2 * x3\n",
    "y = np.array([-0.87, -10.74, -3.27, -1.97, 7.50, -7.25, 17.05, 4.96, 10.40, 11.05, 0.26, 2.51])\n",
    "X = np.column_stack((x1, x2, x3, x4))\n",
    "n, p = X.shape"
   ]
  },
  {
   "cell_type": "markdown",
   "id": "36b4f331",
   "metadata": {},
   "source": [
    "### OLS regression"
   ]
  },
  {
   "cell_type": "code",
   "execution_count": 5,
   "id": "1e8eec2b",
   "metadata": {},
   "outputs": [],
   "source": [
    "ols_result = np.linalg.lstsq(X, y, rcond=None)\n",
    "beta_ols = ols_result[0]\n",
    "sigma2head_ols = np.sum(ols_result[1]) / (n - p)"
   ]
  },
  {
   "cell_type": "markdown",
   "id": "1be37248",
   "metadata": {},
   "source": [
    "### Hyperparameters"
   ]
  },
  {
   "cell_type": "code",
   "execution_count": 6,
   "id": "d775bab4",
   "metadata": {},
   "outputs": [],
   "source": [
    "Sigma2_0_inv = 0.0001 * np.eye(4)\n",
    "beta_0 = np.zeros(4)\n",
    "nu_0 = 1\n",
    "sig2_0 = sigma2head_ols"
   ]
  },
  {
   "cell_type": "markdown",
   "id": "84e53b62",
   "metadata": {},
   "source": [
    "###  Define the JAGS model"
   ]
  },
  {
   "cell_type": "code",
   "execution_count": 17,
   "id": "bd2f0230",
   "metadata": {},
   "outputs": [],
   "source": [
    "model_string = \"\"\"\n",
    "model {\n",
    "    # Likelihood: CAREFUL, in JAGS dnorm(mean, precision)\n",
    "    for (i in 1:n) {\n",
    "        y[i] ~ dnorm(X[i, 1] * beta[1] + X[i, 2] * beta[2] + X[i, 3] * beta[3] + X[i, 4] * beta[4], sigmainv)\n",
    "    }\n",
    "\n",
    "    # Prior distributions\n",
    "    sigmainv ~ dgamma(nu_0 / 2, sig2_0 * nu_0 / 2)\n",
    "    beta ~ dmnorm(beta_0, Sigma2_0_inv)\n",
    "    sigma = 1 / sqrt(sigmainv)\n",
    "}\n",
    "\"\"\""
   ]
  },
  {
   "cell_type": "markdown",
   "id": "405ae653",
   "metadata": {},
   "source": [
    "### Data and initial values to be input in the model"
   ]
  },
  {
   "cell_type": "code",
   "execution_count": 7,
   "id": "207b3132",
   "metadata": {},
   "outputs": [],
   "source": [
    "data = {\"X\": X, \"nu_0\": nu_0, \"sig2_0\": sig2_0 , \"Sigma2_0_inv\": Sigma2_0_inv, \"y\": y, \"n\": n}\n",
    "inits = {\"beta\" : beta_ols, \"sigmainv\" : 1/sigma2head_ols}"
   ]
  },
  {
   "cell_type": "markdown",
   "id": "f1e06b79",
   "metadata": {},
   "source": [
    "### Compile the model, 2 chains to be generated"
   ]
  },
  {
   "cell_type": "code",
   "execution_count": 19,
   "id": "082482ae",
   "metadata": {
    "collapsed": true
   },
   "outputs": [
    {
     "ename": "NameError",
     "evalue": "name 'pyjags' is not defined",
     "output_type": "error",
     "traceback": [
      "\u001b[0;31m---------------------------------------------------------------------------\u001b[0m",
      "\u001b[0;31mNameError\u001b[0m                                 Traceback (most recent call last)",
      "\u001b[0;32m/var/folders/j1/08kjqgs93yx2v5brkn7rdgcm0000gn/T/ipykernel_57571/666849217.py\u001b[0m in \u001b[0;36m<module>\u001b[0;34m\u001b[0m\n\u001b[0;32m----> 1\u001b[0;31m \u001b[0mmodel\u001b[0m \u001b[0;34m=\u001b[0m \u001b[0mpyjags\u001b[0m\u001b[0;34m.\u001b[0m\u001b[0mModel\u001b[0m\u001b[0;34m(\u001b[0m\u001b[0mmodel_string\u001b[0m\u001b[0;34m,\u001b[0m \u001b[0mdata\u001b[0m \u001b[0;34m=\u001b[0m \u001b[0mdict\u001b[0m\u001b[0;34m(\u001b[0m\u001b[0mdata\u001b[0m\u001b[0;34m)\u001b[0m\u001b[0;34m,\u001b[0m \u001b[0minit\u001b[0m \u001b[0;34m=\u001b[0m \u001b[0mdict\u001b[0m\u001b[0;34m(\u001b[0m\u001b[0minits\u001b[0m\u001b[0;34m)\u001b[0m\u001b[0;34m,\u001b[0m \u001b[0mchains\u001b[0m \u001b[0;34m=\u001b[0m \u001b[0;36m2\u001b[0m\u001b[0;34m)\u001b[0m\u001b[0;34m\u001b[0m\u001b[0;34m\u001b[0m\u001b[0m\n\u001b[0m",
      "\u001b[0;31mNameError\u001b[0m: name 'pyjags' is not defined"
     ]
    }
   ],
   "source": [
    "model = pyjags.Model(model_string, data = data, init = dictinits, chains = 2)"
   ]
  },
  {
   "cell_type": "markdown",
   "id": "bb722543",
   "metadata": {},
   "source": [
    "### Burn-in for 1000 samples for each chain"
   ]
  },
  {
   "cell_type": "code",
   "execution_count": 20,
   "id": "7bb7de3a",
   "metadata": {
    "collapsed": true
   },
   "outputs": [
    {
     "ename": "NameError",
     "evalue": "name 'update' is not defined",
     "output_type": "error",
     "traceback": [
      "\u001b[0;31m---------------------------------------------------------------------------\u001b[0m",
      "\u001b[0;31mNameError\u001b[0m                                 Traceback (most recent call last)",
      "\u001b[0;32m/var/folders/j1/08kjqgs93yx2v5brkn7rdgcm0000gn/T/ipykernel_57571/888663306.py\u001b[0m in \u001b[0;36m<module>\u001b[0;34m\u001b[0m\n\u001b[0;32m----> 1\u001b[0;31m \u001b[0mupdate\u001b[0m\u001b[0;34m(\u001b[0m\u001b[0mmodel\u001b[0m\u001b[0;34m,\u001b[0m \u001b[0;36m1000\u001b[0m\u001b[0;34m)\u001b[0m\u001b[0;34m\u001b[0m\u001b[0;34m\u001b[0m\u001b[0m\n\u001b[0m",
      "\u001b[0;31mNameError\u001b[0m: name 'update' is not defined"
     ]
    }
   ],
   "source": [
    "model.update(1000)"
   ]
  },
  {
   "cell_type": "markdown",
   "id": "87c0e48d",
   "metadata": {},
   "source": [
    "### Generate 10000 post-burn-in samples for each chain"
   ]
  },
  {
   "cell_type": "code",
   "execution_count": 21,
   "id": "b346fb68",
   "metadata": {},
   "outputs": [],
   "source": [
    "params = [\"beta\", \"sigma\"]\n",
    "samples = model.sample(10000, vars=params)"
   ]
  },
  {
   "cell_type": "markdown",
   "id": "74c99fbf",
   "metadata": {},
   "source": [
    "### Summarize the output"
   ]
  },
  {
   "cell_type": "code",
   "execution_count": null,
   "id": "94c794a2",
   "metadata": {},
   "outputs": [],
   "source": [
    "summary = samples.stat('mean', 'std', 'quantiles', '95%HPD')\n",
    "print(summary)"
   ]
  },
  {
   "cell_type": "markdown",
   "id": "fb50447f",
   "metadata": {},
   "source": [
    "### Plots for beta2 and beta4"
   ]
  },
  {
   "cell_type": "code",
   "execution_count": null,
   "id": "48b8c175",
   "metadata": {},
   "outputs": [],
   "source": [
    "fig, axs = plt.subplots(1, 2, figsize=(10, 5))\n",
    "sns.kdeplot(samples['beta'][:, 1], ax=axs[0])\n",
    "axs[0].set_xlabel('beta2')\n",
    "sns.kdeplot(samples['beta'][:, 3], ax=axs[1])\n",
    "axs[1].set_xlabel('beta4')\n",
    "plt.show()\n",
    "\n",
    "plt.scatter(samples['beta'][:, 1], samples['beta'][:, 3])\n",
    "plt.xlabel('beta2')\n",
    "plt.ylabel('beta4')\n",
    "plt.show()"
   ]
  },
  {
   "cell_type": "markdown",
   "id": "7818d3a5",
   "metadata": {},
   "source": [
    "### Box-plots of beta_2+beta_4*age for different ages"
   ]
  },
  {
   "cell_type": "code",
   "execution_count": null,
   "id": "8bf6144d",
   "metadata": {},
   "outputs": [],
   "source": [
    "BX = np.zeros((samples['beta'].shape[0], 12))\n",
    "for s in range(samples['beta'].shape[0]):\n",
    "    BX[s, :] = samples['beta'][s, 1] + np.arange(20, 32) * samples['beta'][s, 3]\n",
    "\n",
    "df = pd.DataFrame(BX, columns=np.arange(20, 32))\n",
    "df.plot.box(xlabel='age groups from 20 to 31', ylabel=r'$\\beta_2 + \\beta_4$*age', grid=True)"
   ]
  },
  {
   "cell_type": "markdown",
   "id": "3ffc8d47",
   "metadata": {},
   "source": [
    "### Some diagnostic plots"
   ]
  },
  {
   "cell_type": "code",
   "execution_count": null,
   "id": "7195eda4",
   "metadata": {},
   "outputs": [],
   "source": [
    "pyjags.plot_trace(samples)\n",
    "pyjags.plot_autocorrelation(samples)"
   ]
  }
 ],
 "metadata": {
  "kernelspec": {
   "display_name": "Python 3 (ipykernel)",
   "language": "python",
   "name": "python3"
  },
  "language_info": {
   "codemirror_mode": {
    "name": "ipython",
    "version": 3
   },
   "file_extension": ".py",
   "mimetype": "text/x-python",
   "name": "python",
   "nbconvert_exporter": "python",
   "pygments_lexer": "ipython3",
   "version": "3.9.16"
  }
 },
 "nbformat": 4,
 "nbformat_minor": 5
}
